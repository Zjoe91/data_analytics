{
 "cells": [
  {
   "cell_type": "code",
   "execution_count": 1,
   "id": "0f675023-4cbd-40c1-8559-b67aab6b01d0",
   "metadata": {
    "tags": []
   },
   "outputs": [],
   "source": [
    "import numpy as np\n",
    "import scipy.stats as st"
   ]
  },
  {
   "cell_type": "code",
   "execution_count": 27,
   "id": "e48b8302-208e-48f5-bf63-f04271797f38",
   "metadata": {
    "tags": []
   },
   "outputs": [
    {
     "name": "stdout",
     "output_type": "stream",
     "text": [
      "Confidence level = 95 %\n",
      "alpha = 0.04999999999999993\n",
      "alpha/2 = 0.024999999999999967\n",
      "find in tables: 0.9750000000000001\n",
      "Z-value is: 1.959963984540056\n"
     ]
    }
   ],
   "source": [
    "# Question 1: finding z-value from confidence level value without rounding\n",
    "\n",
    "CL = 95 # this is the confidence level we are going to use to find z value\n",
    "\n",
    "print('Confidence level =',CL,'%')\n",
    "alpha = 1-(CL*0.01) \n",
    "print('alpha =',alpha) # calculating alpha value and printing it\n",
    "\n",
    "find = (alpha/2)\n",
    "print('alpha/2 =',find) # here we are getting the alpha/2 value which are going to use to get the value for the cumulitive probability\n",
    "\n",
    "print('find in tables:',1-find) #here we are getting the cumulitve probability value (1-(alpha/2))\n",
    "\n",
    "print('Z-value is:',st.norm.ppf(1-find)) # here we are getting the value of z-value"
   ]
  },
  {
   "cell_type": "code",
   "execution_count": 25,
   "id": "566c6fb7-8570-448a-9d82-e84f9255a469",
   "metadata": {
    "tags": []
   },
   "outputs": [
    {
     "name": "stdout",
     "output_type": "stream",
     "text": [
      "Cumulative probability = 0.9331927987311419\n",
      "alpha = 0.13361440253771617\n",
      "\n",
      "Confidence level is: 86.64\n"
     ]
    }
   ],
   "source": [
    "#Question 2: finding the confidence level from the z-value without rounding\n",
    "\n",
    "find = st.norm.cdf(1.50) # The value stored in \"find\" is the cumulative probability which are going to use to get alpha value\n",
    "\n",
    "alpha = (1 - find)*2  # we are getting the alpha value\n",
    "\n",
    "print('Cumulative probability =', find) \n",
    "\n",
    "print('alpha =', alpha) \n",
    "\n",
    "print('\\nConfidence level is:',round((1-alpha)*100,2))  # here we are getting the value of the confidence level and printing it\n"
   ]
  },
  {
   "cell_type": "code",
   "execution_count": 26,
   "id": "d2e6f9ce-882b-4eb0-9fd3-2b6c9a6d46b4",
   "metadata": {
    "tags": []
   },
   "outputs": [
    {
     "name": "stdout",
     "output_type": "stream",
     "text": [
      "Cumulative probability = 0.93\n",
      "alpha = 0.14\n",
      "\n",
      "Confidence level is: 86.0\n"
     ]
    }
   ],
   "source": [
    "#Question 3: finding the confidence level from the z-value with rounding\n",
    "\n",
    "find = round(st.norm.cdf(1.50),2) # The value stored in \"find\" is the cumulative probability which are going to use to get alpha value, the value find going to be rounded to two decimals\n",
    "\n",
    "alpha = round((1 - find)*2, 2) # we are getting the alpha value and rounding it to two decimals\n",
    "\n",
    "print('Cumulative probability =', find) \n",
    "\n",
    "print('alpha =', alpha)\n",
    "\n",
    "print('\\nConfidence level is:', round((1-alpha)*100,2)) # here we are getting the value of the confidence level and printing it\n"
   ]
  },
  {
   "cell_type": "code",
   "execution_count": null,
   "id": "a21c513f-4746-4531-878a-9d799f683b7b",
   "metadata": {},
   "outputs": [],
   "source": []
  }
 ],
 "metadata": {
  "kernelspec": {
   "display_name": "Python 3 (ipykernel)",
   "language": "python",
   "name": "python3"
  },
  "language_info": {
   "codemirror_mode": {
    "name": "ipython",
    "version": 3
   },
   "file_extension": ".py",
   "mimetype": "text/x-python",
   "name": "python",
   "nbconvert_exporter": "python",
   "pygments_lexer": "ipython3",
   "version": "3.11.4"
  }
 },
 "nbformat": 4,
 "nbformat_minor": 5
}
